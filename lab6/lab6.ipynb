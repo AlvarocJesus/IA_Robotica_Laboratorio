{
 "cells": [
  {
   "cell_type": "code",
   "execution_count": null,
   "metadata": {},
   "outputs": [],
   "source": [
    "# Importacao das bibliotecas\n",
    "\n",
    "import numpy as np\n",
    "import matplotlib.pyplot as plt\n",
    "from sklearn.neural_network import MLPRegressor"
   ]
  },
  {
   "cell_type": "code",
   "execution_count": null,
   "metadata": {},
   "outputs": [],
   "source": [
    "print('Carregando Arquivo de teste')\n",
    "arquivo = np.load('teste1.npy')\n",
    "x = arquivo[0]\n",
    "y = np.ravel(arquivo[1])\n",
    "\n",
    "regr = MLPRegressor(\n",
    "  hidden_layer_sizes=(2),\n",
    "  max_iter=100,\n",
    "  activation='relu', #{'identity', 'logistic', 'tanh', 'relu'},\n",
    "  solver='adam',\n",
    "  learning_rate = 'adaptive',\n",
    "  n_iter_no_change=50\n",
    ")\n",
    "\n",
    "print('Treinando RNA')\n",
    "regr = regr.fit(x,y)\n",
    "\n",
    "print('Preditor')\n",
    "y_est = regr.predict(x)\n",
    "\n",
    "plt.figure(figsize=[14,7])\n",
    "\n",
    "#plot curso original\n",
    "plt.subplot(1,3,1)\n",
    "plt.plot(x,y)\n",
    "\n",
    "#plot aprendizagem\n",
    "plt.subplot(1,3,2)\n",
    "plt.plot(regr.loss_curve_)\n",
    "\n",
    "#plot regressor\n",
    "plt.subplot(1,3,3)\n",
    "plt.plot(x,y,linewidth=1,color='yellow')\n",
    "plt.plot(x,y_est,linewidth=2)\n",
    "\n",
    "plt.show()"
   ]
  }
 ],
 "metadata": {
  "language_info": {
   "name": "python"
  }
 },
 "nbformat": 4,
 "nbformat_minor": 2
}
